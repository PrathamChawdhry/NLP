{
 "cells": [
  {
   "cell_type": "code",
   "execution_count": 3,
   "metadata": {},
   "outputs": [],
   "source": [
    "import numpy as np\n",
    "import pandas as pd\n",
    "import matplotlib.pyplot as plt\n",
    "import seaborn as sns\n",
    "\n"
   ]
  },
  {
   "cell_type": "markdown",
   "metadata": {},
   "source": [
    "Load the Dataset"
   ]
  },
  {
   "cell_type": "code",
   "execution_count": 11,
   "metadata": {},
   "outputs": [
    {
     "name": "stdout",
     "output_type": "stream",
     "text": [
      "Transition Matrix Index: Index(['NUM', 'DET', 'VERB', 'PROPN', 'PRON', 'NOUN', 'ADP', 'AUX', '.', 'PRT',\n",
      "       'CCONJ', 'INTJ', 'ADV', 'SCONJ', 'CONJ', '_', 'PUNCT', 'X', 'ADJ',\n",
      "       'SYM', 'PART'],\n",
      "      dtype='object')\n",
      "Transition Matrix Columns: Index(['NUM', 'DET', 'VERB', 'PROPN', 'PRON', 'NOUN', 'ADP', 'AUX', '.', 'PRT',\n",
      "       'CCONJ', 'INTJ', 'ADV', 'SCONJ', 'CONJ', '_', 'PUNCT', 'X', 'ADJ',\n",
      "       'SYM', 'PART'],\n",
      "      dtype='object')\n"
     ]
    }
   ],
   "source": [
    "\n",
    "# Load transition matrix\n",
    "transition_df = pd.read_csv(r\"C:\\Users\\mitta\\OneDrive - iiit-b\\Documents\\NLP\\Assignment1\\dataset\\transition_probability_matrix.csv\", index_col=0)\n",
    "\n",
    "# Load emission matrix\n",
    "emission_df = pd.read_csv(r\"C:\\Users\\mitta\\OneDrive - iiit-b\\Documents\\NLP\\Assignment1\\dataset\\emissive_probability_matrix.csv\", index_col=0)\n",
    "\n",
    "# Ensure index and column names are properly set\n",
    "print(\"Transition Matrix Index:\", transition_df.index)\n",
    "print(\"Transition Matrix Columns:\", transition_df.columns)\n",
    "\n",
    "\n",
    "\n",
    "# transition_df=pd.read_csv(r\"C:\\Users\\mitta\\OneDrive - iiit-b\\Documents\\NLP\\Assignment1\\dataset\\transition_probability_matrix.csv\")\n",
    "# emission_df=pd.read_csv(r\"C:\\Users\\mitta\\OneDrive - iiit-b\\Documents\\NLP\\Assignment1\\dataset\\emissive_probability_matrix.csv\")\n",
    "start_df=pd.read_csv(r\"C:\\Users\\mitta\\OneDrive - iiit-b\\Documents\\NLP\\Assignment1\\dataset\\start_probability_matrix.csv\")"
   ]
  },
  {
   "cell_type": "code",
   "execution_count": 12,
   "metadata": {},
   "outputs": [
    {
     "name": "stdout",
     "output_type": "stream",
     "text": [
      "Transition Matrix Index: Index(['NUM', 'DET', 'VERB', 'PROPN', 'PRON', 'NOUN', 'ADP', 'AUX', '.', 'PRT',\n",
      "       'CCONJ', 'INTJ', 'ADV', 'SCONJ', 'CONJ', '_', 'PUNCT', 'X', 'ADJ',\n",
      "       'SYM', 'PART'],\n",
      "      dtype='object')\n",
      "Transition Matrix Columns: Index(['NUM', 'DET', 'VERB', 'PROPN', 'PRON', 'NOUN', 'ADP', 'AUX', '.', 'PRT',\n",
      "       'CCONJ', 'INTJ', 'ADV', 'SCONJ', 'CONJ', '_', 'PUNCT', 'X', 'ADJ',\n",
      "       'SYM', 'PART'],\n",
      "      dtype='object')\n",
      "Emission Matrix Index: Index(['NUM', 'NOUN', 'DET', 'VERB', 'ADJ', '.', 'PUNCT', 'ADP', 'CONJ',\n",
      "       'PROPN', 'X', 'PRON', 'ADV', 'AUX', 'INTJ', 'CCONJ', 'PRT', 'PART',\n",
      "       'SCONJ', '_', 'SYM'],\n",
      "      dtype='object')\n",
      "Emission Matrix Columns: Index(['03/01/2001', '01:35', 'PM', 'The', 'industry', 'has', 'said', '1960',\n",
      "       'was', 'a',\n",
      "       ...\n",
      "       'computations', 'mea', 'culpas', 'scapegoats', 'slave-owners', 'MKM's',\n",
      "       '*-150', '*-151', 'mosquito-plagued', 'Superstition'],\n",
      "      dtype='object', length=58110)\n"
     ]
    }
   ],
   "source": [
    "print(\"Transition Matrix Index:\", transition_df.index)\n",
    "print(\"Transition Matrix Columns:\", transition_df.columns)\n",
    "print(\"Emission Matrix Index:\", emission_df.index)\n",
    "print(\"Emission Matrix Columns:\", emission_df.columns)\n"
   ]
  },
  {
   "cell_type": "code",
   "execution_count": 13,
   "metadata": {},
   "outputs": [
    {
     "name": "stdout",
     "output_type": "stream",
     "text": [
      "[('The', 'NOUN'), ('industry', 'ADP'), ('has', 'DET'), ('said', 'NOUN')]\n"
     ]
    }
   ],
   "source": [
    "def viterbi_algorithm(sentence, transition_df, emission_df):\n",
    "    pos_tags = list(transition_df.index)  # List of POS tags\n",
    "    words = sentence.split()\n",
    "    num_tags = len(pos_tags)\n",
    "    num_words = len(words)\n",
    "    \n",
    "    # Initialize dynamic programming tables\n",
    "    viterbi = np.zeros((num_tags, num_words))  # Probability table\n",
    "    backpointer = np.zeros((num_tags, num_words), dtype=int)  # Backtracking table\n",
    "    \n",
    "    # Initialize the first column\n",
    "    for i, tag in enumerate(pos_tags):\n",
    "        transition_prob = transition_df.loc['START', tag] if 'START' in transition_df.index else 1e-6\n",
    "        emission_prob = emission_df.loc[tag, words[0]] if words[0] in emission_df.columns else 1e-6\n",
    "        viterbi[i, 0] = transition_prob * emission_prob\n",
    "        backpointer[i, 0] = 0\n",
    "    \n",
    "    # Fill the dynamic programming table\n",
    "    for t in range(1, num_words):\n",
    "        for i, tag in enumerate(pos_tags):\n",
    "            max_prob, max_state = max(\n",
    "                (viterbi[k, t-1] * transition_df.loc[prev_tag, tag] if prev_tag in transition_df.index else 1e-6 *\n",
    "                 emission_df.loc[tag, words[t]] if words[t] in emission_df.columns else 1e-6, k)\n",
    "                for k, prev_tag in enumerate(pos_tags)\n",
    "            )\n",
    "            viterbi[i, t] = max_prob\n",
    "            backpointer[i, t] = max_state\n",
    "    \n",
    "    # Traceback\n",
    "    best_path = []\n",
    "    best_last_state = np.argmax(viterbi[:, -1])\n",
    "    best_path.append(pos_tags[best_last_state])\n",
    "    \n",
    "    for t in range(num_words - 1, 0, -1):\n",
    "        best_last_state = backpointer[best_last_state, t]\n",
    "        best_path.insert(0, pos_tags[best_last_state])\n",
    "    \n",
    "    return list(zip(words, best_path))\n",
    "\n",
    "# Example usage\n",
    "sentence = \"The industry has said\"\n",
    "predicted_tags = viterbi_algorithm(sentence, transition_df, emission_df)\n",
    "print(predicted_tags)\n",
    "\n"
   ]
  }
 ],
 "metadata": {
  "kernelspec": {
   "display_name": "Python 3",
   "language": "python",
   "name": "python3"
  },
  "language_info": {
   "codemirror_mode": {
    "name": "ipython",
    "version": 3
   },
   "file_extension": ".py",
   "mimetype": "text/x-python",
   "name": "python",
   "nbconvert_exporter": "python",
   "pygments_lexer": "ipython3",
   "version": "3.11.0"
  }
 },
 "nbformat": 4,
 "nbformat_minor": 2
}
