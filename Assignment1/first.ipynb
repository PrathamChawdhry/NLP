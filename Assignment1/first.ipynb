{
 "cells": [
  {
   "cell_type": "markdown",
   "metadata": {},
   "source": [
    "cmmcmcv"
   ]
  },
  {
   "cell_type": "code",
   "execution_count": 20,
   "metadata": {},
   "outputs": [
    {
     "name": "stdout",
     "output_type": "stream",
     "text": [
      "Transition Matrix Index: Index(['NUM', 'NOUN', 'DET', 'VERB', 'ADJ', '.', 'PUNCT', 'ADP', 'CONJ',\n",
      "       'PROPN', 'X', 'PRON', 'ADV', 'AUX', 'INTJ', 'CCONJ', 'PRT', 'PART',\n",
      "       'SCONJ', '_', 'SYM'],\n",
      "      dtype='object')\n",
      "Transition Matrix Columns: Index(['NUM', 'NOUN', 'DET', 'VERB', 'ADJ', '.', 'PUNCT', 'ADP', 'CONJ',\n",
      "       'PROPN', 'X', 'PRON', 'ADV', 'AUX', 'INTJ', 'CCONJ', 'PRT', 'PART',\n",
      "       'SCONJ', '_', 'SYM'],\n",
      "      dtype='object')\n"
     ]
    }
   ],
   "source": [
    "import pandas as pd\n",
    "import numpy as np\n",
    "import ast\n",
    "# Load transition matrix\n",
    "transition_df = pd.read_csv(r\"C:\\Users\\mitta\\OneDrive - iiit-b\\Documents\\NLP\\Assignment1\\dataset\\transition_probability_matrix.csv\", index_col=0)\n",
    "\n",
    "# Load emission matrix\n",
    "emission_df = pd.read_csv(r\"C:\\Users\\mitta\\OneDrive - iiit-b\\Documents\\NLP\\Assignment1\\dataset\\emissive_probability_matrix.csv\", index_col=0)\n",
    "\n",
    "start_df= pd.read_csv(r\"C:\\Users\\mitta\\OneDrive - iiit-b\\Documents\\NLP\\Assignment1\\dataset\\start_probability_matrix.csv\", index_col=0)\n",
    "\n",
    "# Ensure index and column names are properly set\n",
    "print(\"Transition Matrix Index:\", transition_df.index)\n",
    "print(\"Transition Matrix Columns:\", transition_df.columns)\n"
   ]
  },
  {
   "cell_type": "code",
   "execution_count": 27,
   "metadata": {},
   "outputs": [],
   "source": [
    "def viterbi_algorithm(words, transition_df, emission_df, start_df):\n",
    "    # words = sentence.split()\n",
    "  \n",
    "    pos_tags = list(transition_df.index)  # POS tag list\n",
    "    num_tags = len(pos_tags)\n",
    "    num_words = len(words)\n",
    "    \n",
    "    # Initialize DP tables\n",
    "    viterbi = np.zeros((num_tags, num_words))  \n",
    "    backpointer = np.zeros((num_tags, num_words), dtype=int)  \n",
    "    \n",
    "    # Initialization step\n",
    "    for i, tag in enumerate(pos_tags):\n",
    "        start_prob = start_df.loc[tag, 'START'] if tag in start_df.index else 1e-6\n",
    "        emission_prob = emission_df.loc[tag, words[0]] if words[0] in emission_df.columns else 1e-6\n",
    "        viterbi[i, 0] = start_prob * emission_prob\n",
    "    \n",
    "    # Recursion step\n",
    "    for t in range(1, num_words):\n",
    "        for i, tag in enumerate(pos_tags):\n",
    "            max_prob, max_state = max(\n",
    "                (viterbi[k, t-1] * transition_df.loc[prev_tag, tag] * (emission_df.loc[tag, words[t]] if words[t] in emission_df.columns else 1e-6), k)\n",
    "                if prev_tag in transition_df.index else (1e-6, k)\n",
    "                for k, prev_tag in enumerate(pos_tags)\n",
    "            )\n",
    "            viterbi[i, t] = max_prob\n",
    "            backpointer[i, t] = max_state\n",
    "    \n",
    "    # Traceback\n",
    "    best_path = []\n",
    "    best_last_state = np.argmax(viterbi[:, -1])\n",
    "    best_path.append(pos_tags[best_last_state])\n",
    "    \n",
    "    for t in range(num_words - 1, 0, -1):\n",
    "        best_last_state = backpointer[best_last_state, t]\n",
    "        best_path.insert(0, pos_tags[best_last_state])\n",
    "    \n",
    "    return list(zip(words, best_path))\n",
    "\n",
    "# # Example Usage\n",
    "# sentence = \"The industry has said\"\n",
    "# predicted_tags = viterbi_algorithm(sentence, transition_df, emission_df, start_df)\n",
    "# print(predicted_tags)"
   ]
  },
  {
   "cell_type": "code",
   "execution_count": 24,
   "metadata": {},
   "outputs": [],
   "source": [
    "test_data= pd.read_csv(r\"C:\\Users\\mitta\\OneDrive - iiit-b\\Documents\\NLP\\Assignment1\\dataset\\TEST.csv\", header=None, names=['sentence'])\n",
    "test_data['sentence'] = test_data['sentence'].apply(ast.literal_eval)"
   ]
  },
  {
   "cell_type": "code",
   "execution_count": 28,
   "metadata": {},
   "outputs": [
    {
     "ename": "KeyboardInterrupt",
     "evalue": "",
     "output_type": "error",
     "traceback": [
      "\u001b[1;31m---------------------------------------------------------------------------\u001b[0m",
      "\u001b[1;31mKeyboardInterrupt\u001b[0m                         Traceback (most recent call last)",
      "Cell \u001b[1;32mIn[28], line 14\u001b[0m\n\u001b[0;32m     11\u001b[0m     accuracy \u001b[38;5;241m=\u001b[39m correct \u001b[38;5;241m/\u001b[39m total \u001b[38;5;28;01mif\u001b[39;00m total \u001b[38;5;241m>\u001b[39m \u001b[38;5;241m0\u001b[39m \u001b[38;5;28;01melse\u001b[39;00m \u001b[38;5;241m0\u001b[39m\n\u001b[0;32m     12\u001b[0m     \u001b[38;5;28mprint\u001b[39m(\u001b[38;5;124m\"\u001b[39m\u001b[38;5;124mModel Accuracy: \u001b[39m\u001b[38;5;124m\"\u001b[39m\u001b[38;5;241m+\u001b[39m\u001b[38;5;28mstr\u001b[39m(accuracy\u001b[38;5;241m*\u001b[39m\u001b[38;5;241m100\u001b[39m)\u001b[38;5;241m+\u001b[39m\u001b[38;5;124m\"\u001b[39m\u001b[38;5;124m%\u001b[39m\u001b[38;5;124m\"\u001b[39m)\n\u001b[1;32m---> 14\u001b[0m \u001b[43mevaluate\u001b[49m\u001b[43m(\u001b[49m\u001b[43mtest_data\u001b[49m\u001b[43m)\u001b[49m\n",
      "Cell \u001b[1;32mIn[28], line 8\u001b[0m, in \u001b[0;36mevaluate\u001b[1;34m(test_data)\u001b[0m\n\u001b[0;32m      5\u001b[0m words \u001b[38;5;241m=\u001b[39m [word \u001b[38;5;28;01mfor\u001b[39;00m word,_ \u001b[38;5;129;01min\u001b[39;00m sentence]\n\u001b[0;32m      7\u001b[0m actual_tags \u001b[38;5;241m=\u001b[39m [tag \u001b[38;5;28;01mfor\u001b[39;00m _, tag \u001b[38;5;129;01min\u001b[39;00m sentence]\n\u001b[1;32m----> 8\u001b[0m predicted_tags \u001b[38;5;241m=\u001b[39m \u001b[43mviterbi_algorithm\u001b[49m\u001b[43m(\u001b[49m\u001b[43mwords\u001b[49m\u001b[43m,\u001b[49m\u001b[43m \u001b[49m\u001b[43mtransition_df\u001b[49m\u001b[43m,\u001b[49m\u001b[43m \u001b[49m\u001b[43memission_df\u001b[49m\u001b[43m,\u001b[49m\u001b[43mstart_df\u001b[49m\u001b[43m)\u001b[49m\n\u001b[0;32m      9\u001b[0m correct \u001b[38;5;241m+\u001b[39m\u001b[38;5;241m=\u001b[39m \u001b[38;5;28msum\u001b[39m(p \u001b[38;5;241m==\u001b[39m a \u001b[38;5;28;01mfor\u001b[39;00m p, a \u001b[38;5;129;01min\u001b[39;00m \u001b[38;5;28mzip\u001b[39m(predicted_tags, actual_tags))\n\u001b[0;32m     10\u001b[0m total \u001b[38;5;241m+\u001b[39m\u001b[38;5;241m=\u001b[39m \u001b[38;5;28mlen\u001b[39m(actual_tags)\n",
      "Cell \u001b[1;32mIn[27], line 21\u001b[0m, in \u001b[0;36mviterbi_algorithm\u001b[1;34m(words, transition_df, emission_df, start_df)\u001b[0m\n\u001b[0;32m     19\u001b[0m \u001b[38;5;28;01mfor\u001b[39;00m t \u001b[38;5;129;01min\u001b[39;00m \u001b[38;5;28mrange\u001b[39m(\u001b[38;5;241m1\u001b[39m, num_words):\n\u001b[0;32m     20\u001b[0m     \u001b[38;5;28;01mfor\u001b[39;00m i, tag \u001b[38;5;129;01min\u001b[39;00m \u001b[38;5;28menumerate\u001b[39m(pos_tags):\n\u001b[1;32m---> 21\u001b[0m         max_prob, max_state \u001b[38;5;241m=\u001b[39m \u001b[38;5;28;43mmax\u001b[39;49m\u001b[43m(\u001b[49m\n\u001b[0;32m     22\u001b[0m \u001b[43m            \u001b[49m\u001b[43m(\u001b[49m\u001b[43mviterbi\u001b[49m\u001b[43m[\u001b[49m\u001b[43mk\u001b[49m\u001b[43m,\u001b[49m\u001b[43m \u001b[49m\u001b[43mt\u001b[49m\u001b[38;5;241;43m-\u001b[39;49m\u001b[38;5;241;43m1\u001b[39;49m\u001b[43m]\u001b[49m\u001b[43m \u001b[49m\u001b[38;5;241;43m*\u001b[39;49m\u001b[43m \u001b[49m\u001b[43mtransition_df\u001b[49m\u001b[38;5;241;43m.\u001b[39;49m\u001b[43mloc\u001b[49m\u001b[43m[\u001b[49m\u001b[43mprev_tag\u001b[49m\u001b[43m,\u001b[49m\u001b[43m \u001b[49m\u001b[43mtag\u001b[49m\u001b[43m]\u001b[49m\u001b[43m \u001b[49m\u001b[38;5;241;43m*\u001b[39;49m\u001b[43m \u001b[49m\u001b[43m(\u001b[49m\u001b[43memission_df\u001b[49m\u001b[38;5;241;43m.\u001b[39;49m\u001b[43mloc\u001b[49m\u001b[43m[\u001b[49m\u001b[43mtag\u001b[49m\u001b[43m,\u001b[49m\u001b[43m \u001b[49m\u001b[43mwords\u001b[49m\u001b[43m[\u001b[49m\u001b[43mt\u001b[49m\u001b[43m]\u001b[49m\u001b[43m]\u001b[49m\u001b[43m \u001b[49m\u001b[38;5;28;43;01mif\u001b[39;49;00m\u001b[43m \u001b[49m\u001b[43mwords\u001b[49m\u001b[43m[\u001b[49m\u001b[43mt\u001b[49m\u001b[43m]\u001b[49m\u001b[43m \u001b[49m\u001b[38;5;129;43;01min\u001b[39;49;00m\u001b[43m \u001b[49m\u001b[43memission_df\u001b[49m\u001b[38;5;241;43m.\u001b[39;49m\u001b[43mcolumns\u001b[49m\u001b[43m \u001b[49m\u001b[38;5;28;43;01melse\u001b[39;49;00m\u001b[43m \u001b[49m\u001b[38;5;241;43m1e-6\u001b[39;49m\u001b[43m)\u001b[49m\u001b[43m,\u001b[49m\u001b[43m \u001b[49m\u001b[43mk\u001b[49m\u001b[43m)\u001b[49m\n\u001b[0;32m     23\u001b[0m \u001b[43m            \u001b[49m\u001b[38;5;28;43;01mif\u001b[39;49;00m\u001b[43m \u001b[49m\u001b[43mprev_tag\u001b[49m\u001b[43m \u001b[49m\u001b[38;5;129;43;01min\u001b[39;49;00m\u001b[43m \u001b[49m\u001b[43mtransition_df\u001b[49m\u001b[38;5;241;43m.\u001b[39;49m\u001b[43mindex\u001b[49m\u001b[43m \u001b[49m\u001b[38;5;28;43;01melse\u001b[39;49;00m\u001b[43m \u001b[49m\u001b[43m(\u001b[49m\u001b[38;5;241;43m1e-6\u001b[39;49m\u001b[43m,\u001b[49m\u001b[43m \u001b[49m\u001b[43mk\u001b[49m\u001b[43m)\u001b[49m\n\u001b[0;32m     24\u001b[0m \u001b[43m            \u001b[49m\u001b[38;5;28;43;01mfor\u001b[39;49;00m\u001b[43m \u001b[49m\u001b[43mk\u001b[49m\u001b[43m,\u001b[49m\u001b[43m \u001b[49m\u001b[43mprev_tag\u001b[49m\u001b[43m \u001b[49m\u001b[38;5;129;43;01min\u001b[39;49;00m\u001b[43m \u001b[49m\u001b[38;5;28;43menumerate\u001b[39;49m\u001b[43m(\u001b[49m\u001b[43mpos_tags\u001b[49m\u001b[43m)\u001b[49m\n\u001b[0;32m     25\u001b[0m \u001b[43m        \u001b[49m\u001b[43m)\u001b[49m\n\u001b[0;32m     26\u001b[0m         viterbi[i, t] \u001b[38;5;241m=\u001b[39m max_prob\n\u001b[0;32m     27\u001b[0m         backpointer[i, t] \u001b[38;5;241m=\u001b[39m max_state\n",
      "Cell \u001b[1;32mIn[27], line 22\u001b[0m, in \u001b[0;36m<genexpr>\u001b[1;34m(.0)\u001b[0m\n\u001b[0;32m     19\u001b[0m \u001b[38;5;28;01mfor\u001b[39;00m t \u001b[38;5;129;01min\u001b[39;00m \u001b[38;5;28mrange\u001b[39m(\u001b[38;5;241m1\u001b[39m, num_words):\n\u001b[0;32m     20\u001b[0m     \u001b[38;5;28;01mfor\u001b[39;00m i, tag \u001b[38;5;129;01min\u001b[39;00m \u001b[38;5;28menumerate\u001b[39m(pos_tags):\n\u001b[0;32m     21\u001b[0m         max_prob, max_state \u001b[38;5;241m=\u001b[39m \u001b[38;5;28mmax\u001b[39m(\n\u001b[1;32m---> 22\u001b[0m             (viterbi[k, t\u001b[38;5;241m-\u001b[39m\u001b[38;5;241m1\u001b[39m] \u001b[38;5;241m*\u001b[39m transition_df\u001b[38;5;241m.\u001b[39mloc[prev_tag, tag] \u001b[38;5;241m*\u001b[39m (\u001b[43memission_df\u001b[49m\u001b[38;5;241;43m.\u001b[39;49m\u001b[43mloc\u001b[49m\u001b[43m[\u001b[49m\u001b[43mtag\u001b[49m\u001b[43m,\u001b[49m\u001b[43m \u001b[49m\u001b[43mwords\u001b[49m\u001b[43m[\u001b[49m\u001b[43mt\u001b[49m\u001b[43m]\u001b[49m\u001b[43m]\u001b[49m \u001b[38;5;28;01mif\u001b[39;00m words[t] \u001b[38;5;129;01min\u001b[39;00m emission_df\u001b[38;5;241m.\u001b[39mcolumns \u001b[38;5;28;01melse\u001b[39;00m \u001b[38;5;241m1e-6\u001b[39m), k)\n\u001b[0;32m     23\u001b[0m             \u001b[38;5;28;01mif\u001b[39;00m prev_tag \u001b[38;5;129;01min\u001b[39;00m transition_df\u001b[38;5;241m.\u001b[39mindex \u001b[38;5;28;01melse\u001b[39;00m (\u001b[38;5;241m1e-6\u001b[39m, k)\n\u001b[0;32m     24\u001b[0m             \u001b[38;5;28;01mfor\u001b[39;00m k, prev_tag \u001b[38;5;129;01min\u001b[39;00m \u001b[38;5;28menumerate\u001b[39m(pos_tags)\n\u001b[0;32m     25\u001b[0m         )\n\u001b[0;32m     26\u001b[0m         viterbi[i, t] \u001b[38;5;241m=\u001b[39m max_prob\n\u001b[0;32m     27\u001b[0m         backpointer[i, t] \u001b[38;5;241m=\u001b[39m max_state\n",
      "File \u001b[1;32mc:\\Users\\mitta\\AppData\\Local\\Programs\\Python\\Python311\\Lib\\site-packages\\pandas\\core\\indexing.py:1183\u001b[0m, in \u001b[0;36m_LocationIndexer.__getitem__\u001b[1;34m(self, key)\u001b[0m\n\u001b[0;32m   1181\u001b[0m     key \u001b[38;5;241m=\u001b[39m \u001b[38;5;28mtuple\u001b[39m(com\u001b[38;5;241m.\u001b[39mapply_if_callable(x, \u001b[38;5;28mself\u001b[39m\u001b[38;5;241m.\u001b[39mobj) \u001b[38;5;28;01mfor\u001b[39;00m x \u001b[38;5;129;01min\u001b[39;00m key)\n\u001b[0;32m   1182\u001b[0m     \u001b[38;5;28;01mif\u001b[39;00m \u001b[38;5;28mself\u001b[39m\u001b[38;5;241m.\u001b[39m_is_scalar_access(key):\n\u001b[1;32m-> 1183\u001b[0m         \u001b[38;5;28;01mreturn\u001b[39;00m \u001b[38;5;28;43mself\u001b[39;49m\u001b[38;5;241;43m.\u001b[39;49m\u001b[43mobj\u001b[49m\u001b[38;5;241;43m.\u001b[39;49m\u001b[43m_get_value\u001b[49m\u001b[43m(\u001b[49m\u001b[38;5;241;43m*\u001b[39;49m\u001b[43mkey\u001b[49m\u001b[43m,\u001b[49m\u001b[43m \u001b[49m\u001b[43mtakeable\u001b[49m\u001b[38;5;241;43m=\u001b[39;49m\u001b[38;5;28;43mself\u001b[39;49m\u001b[38;5;241;43m.\u001b[39;49m\u001b[43m_takeable\u001b[49m\u001b[43m)\u001b[49m\n\u001b[0;32m   1184\u001b[0m     \u001b[38;5;28;01mreturn\u001b[39;00m \u001b[38;5;28mself\u001b[39m\u001b[38;5;241m.\u001b[39m_getitem_tuple(key)\n\u001b[0;32m   1185\u001b[0m \u001b[38;5;28;01melse\u001b[39;00m:\n\u001b[0;32m   1186\u001b[0m     \u001b[38;5;66;03m# we by definition only have the 0th axis\u001b[39;00m\n",
      "File \u001b[1;32mc:\\Users\\mitta\\AppData\\Local\\Programs\\Python\\Python311\\Lib\\site-packages\\pandas\\core\\frame.py:4221\u001b[0m, in \u001b[0;36mDataFrame._get_value\u001b[1;34m(self, index, col, takeable)\u001b[0m\n\u001b[0;32m   4215\u001b[0m engine \u001b[38;5;241m=\u001b[39m \u001b[38;5;28mself\u001b[39m\u001b[38;5;241m.\u001b[39mindex\u001b[38;5;241m.\u001b[39m_engine\n\u001b[0;32m   4217\u001b[0m \u001b[38;5;28;01mif\u001b[39;00m \u001b[38;5;129;01mnot\u001b[39;00m \u001b[38;5;28misinstance\u001b[39m(\u001b[38;5;28mself\u001b[39m\u001b[38;5;241m.\u001b[39mindex, MultiIndex):\n\u001b[0;32m   4218\u001b[0m     \u001b[38;5;66;03m# CategoricalIndex: Trying to use the engine fastpath may give incorrect\u001b[39;00m\n\u001b[0;32m   4219\u001b[0m     \u001b[38;5;66;03m#  results if our categories are integers that dont match our codes\u001b[39;00m\n\u001b[0;32m   4220\u001b[0m     \u001b[38;5;66;03m# IntervalIndex: IntervalTree has no get_loc\u001b[39;00m\n\u001b[1;32m-> 4221\u001b[0m     row \u001b[38;5;241m=\u001b[39m \u001b[38;5;28;43mself\u001b[39;49m\u001b[38;5;241;43m.\u001b[39;49m\u001b[43mindex\u001b[49m\u001b[38;5;241;43m.\u001b[39;49m\u001b[43mget_loc\u001b[49m\u001b[43m(\u001b[49m\u001b[43mindex\u001b[49m\u001b[43m)\u001b[49m\n\u001b[0;32m   4222\u001b[0m     \u001b[38;5;28;01mreturn\u001b[39;00m series\u001b[38;5;241m.\u001b[39m_values[row]\n\u001b[0;32m   4224\u001b[0m \u001b[38;5;66;03m# For MultiIndex going through engine effectively restricts us to\u001b[39;00m\n\u001b[0;32m   4225\u001b[0m \u001b[38;5;66;03m#  same-length tuples; see test_get_set_value_no_partial_indexing\u001b[39;00m\n",
      "File \u001b[1;32mc:\\Users\\mitta\\AppData\\Local\\Programs\\Python\\Python311\\Lib\\site-packages\\pandas\\core\\indexes\\base.py:3803\u001b[0m, in \u001b[0;36mIndex.get_loc\u001b[1;34m(self, key)\u001b[0m\n\u001b[0;32m   3777\u001b[0m \u001b[38;5;28;01mdef\u001b[39;00m \u001b[38;5;21mget_loc\u001b[39m(\u001b[38;5;28mself\u001b[39m, key):\n\u001b[0;32m   3778\u001b[0m \u001b[38;5;250m    \u001b[39m\u001b[38;5;124;03m\"\"\"\u001b[39;00m\n\u001b[0;32m   3779\u001b[0m \u001b[38;5;124;03m    Get integer location, slice or boolean mask for requested label.\u001b[39;00m\n\u001b[0;32m   3780\u001b[0m \n\u001b[1;32m   (...)\u001b[0m\n\u001b[0;32m   3801\u001b[0m \u001b[38;5;124;03m    array([False,  True, False,  True])\u001b[39;00m\n\u001b[0;32m   3802\u001b[0m \u001b[38;5;124;03m    \"\"\"\u001b[39;00m\n\u001b[1;32m-> 3803\u001b[0m     casted_key \u001b[38;5;241m=\u001b[39m \u001b[38;5;28;43mself\u001b[39;49m\u001b[38;5;241;43m.\u001b[39;49m\u001b[43m_maybe_cast_indexer\u001b[49m\u001b[43m(\u001b[49m\u001b[43mkey\u001b[49m\u001b[43m)\u001b[49m\n\u001b[0;32m   3804\u001b[0m     \u001b[38;5;28;01mtry\u001b[39;00m:\n\u001b[0;32m   3805\u001b[0m         \u001b[38;5;28;01mreturn\u001b[39;00m \u001b[38;5;28mself\u001b[39m\u001b[38;5;241m.\u001b[39m_engine\u001b[38;5;241m.\u001b[39mget_loc(casted_key)\n",
      "File \u001b[1;32mc:\\Users\\mitta\\AppData\\Local\\Programs\\Python\\Python311\\Lib\\site-packages\\pandas\\core\\indexes\\base.py:6672\u001b[0m, in \u001b[0;36mIndex._maybe_cast_indexer\u001b[1;34m(self, key)\u001b[0m\n\u001b[0;32m   6668\u001b[0m         \u001b[38;5;28;01mraise\u001b[39;00m \u001b[38;5;167;01mAssertionError\u001b[39;00m(\u001b[38;5;124m\"\u001b[39m\u001b[38;5;124mEnd slice bound is non-scalar\u001b[39m\u001b[38;5;124m\"\u001b[39m)\n\u001b[0;32m   6670\u001b[0m     \u001b[38;5;28;01mreturn\u001b[39;00m \u001b[38;5;28mslice\u001b[39m(start_slice, end_slice, step)\n\u001b[1;32m-> 6672\u001b[0m \u001b[38;5;28;01mdef\u001b[39;00m \u001b[38;5;21m_maybe_cast_indexer\u001b[39m(\u001b[38;5;28mself\u001b[39m, key):\n\u001b[0;32m   6673\u001b[0m \u001b[38;5;250m    \u001b[39m\u001b[38;5;124;03m\"\"\"\u001b[39;00m\n\u001b[0;32m   6674\u001b[0m \u001b[38;5;124;03m    If we have a float key and are not a floating index, then try to cast\u001b[39;00m\n\u001b[0;32m   6675\u001b[0m \u001b[38;5;124;03m    to an int if equivalent.\u001b[39;00m\n\u001b[0;32m   6676\u001b[0m \u001b[38;5;124;03m    \"\"\"\u001b[39;00m\n\u001b[0;32m   6677\u001b[0m     \u001b[38;5;28;01mreturn\u001b[39;00m key\n",
      "\u001b[1;31mKeyboardInterrupt\u001b[0m: "
     ]
    }
   ],
   "source": [
    "def evaluate(test_data):\n",
    "    correct, total = 0, 0\n",
    "    for sentence in test_data['sentence']:\n",
    "       \n",
    "        words = [word for word,_ in sentence]\n",
    "        \n",
    "        actual_tags = [tag for _, tag in sentence]\n",
    "        predicted_tags = viterbi_algorithm(words, transition_df, emission_df,start_df)\n",
    "        correct += sum(p == a for p, a in zip(predicted_tags, actual_tags))\n",
    "        total += len(actual_tags)\n",
    "    accuracy = correct / total if total > 0 else 0\n",
    "    print(\"Model Accuracy: \"+str(accuracy*100)+\"%\")\n",
    "\n",
    "evaluate(test_data)\n"
   ]
  }
 ],
 "metadata": {
  "kernelspec": {
   "display_name": "Python 3",
   "language": "python",
   "name": "python3"
  },
  "language_info": {
   "codemirror_mode": {
    "name": "ipython",
    "version": 3
   },
   "file_extension": ".py",
   "mimetype": "text/x-python",
   "name": "python",
   "nbconvert_exporter": "python",
   "pygments_lexer": "ipython3",
   "version": "3.11.0"
  }
 },
 "nbformat": 4,
 "nbformat_minor": 2
}
